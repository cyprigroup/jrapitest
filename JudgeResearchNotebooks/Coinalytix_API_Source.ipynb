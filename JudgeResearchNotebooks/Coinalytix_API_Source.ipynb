{
 "cells": [
  {
   "cell_type": "markdown",
   "id": "2cf2297d-530d-44a7-bd29-03a724c26d6f",
   "metadata": {},
   "source": [
    "# Coinalytix API Library\n",
    "## Configuration\n",
    "Enter the provide URL and API key below:"
   ]
  },
  {
   "cell_type": "code",
   "execution_count": 2,
   "id": "387e94ba-1d96-4ba7-a003-6e9928216c21",
   "metadata": {},
   "outputs": [],
   "source": [
    "URL = \"https://timeseries.coinalytix.io/getohlcdata?\"\n",
    "APIKEY = \"477IJy2Ern7Fw0NxkIB465jwN8LMW100\"\n",
    "\n",
    "EXCHANGE = \"BINANCE\"\n",
    "TICKER = \"ETH-USD-SPOT\"\n",
    "STARTDATE = 1577836800000\n",
    "INTERVAL = \"4h\"\n",
    "NUMPERIODS = 30"
   ]
  },
  {
   "cell_type": "markdown",
   "id": "8a758258-6581-4a00-9c1b-4e65ec8ba7e7",
   "metadata": {},
   "source": [
    "## Dependencies & Helper Functions"
   ]
  },
  {
   "cell_type": "code",
   "execution_count": 3,
   "id": "cb9f14d2-ca59-433d-9e09-d52c7dbdf073",
   "metadata": {},
   "outputs": [],
   "source": [
    "import datetime\n",
    "import requests"
   ]
  },
  {
   "cell_type": "code",
   "execution_count": 19,
   "id": "883bd235-5b98-440e-a64d-c9e52e45b8d5",
   "metadata": {
    "tags": []
   },
   "outputs": [],
   "source": [
    "def get_spot_price():\n",
    "    \n",
    "    spoturl = f\"{URL}\\\n",
    "    apikey={APIKEY}\\\n",
    "    &exchange={EXCHANGE}\\\n",
    "    &ticker={TICKER}\\\n",
    "    &startDate={STARTDATE}\\\n",
    "    &interval={str(INTERVAL)}\\\n",
    "    &numPeriods={str(NUMPERIODS)}\"\n",
    "    \n",
    "    spot = requests.get(spoturl)\n",
    "    return spot.text"
   ]
  },
  {
   "cell_type": "code",
   "execution_count": 20,
   "id": "c8ce5b27-caa3-4b8c-9f52-fcfe13147751",
   "metadata": {},
   "outputs": [
    {
     "name": "stdout",
     "output_type": "stream",
     "text": [
      "URL: https://timeseries.coinalytix.io/getohlcdata?apikey=477IJy2Ern7Fw0NxkIB465jwN8LMW100&exchange=BINANCE&ticker=ETH-USD-SPOT&startDate=1577836800000&interval=4h&numPeriods=30\n",
      "{\"status\": \"error\", \"data\": []}\n"
     ]
    }
   ],
   "source": [
    "print(get_spot_price())"
   ]
  }
 ],
 "metadata": {
  "kernelspec": {
   "display_name": "Python 3 (ipykernel)",
   "language": "python",
   "name": "python3"
  },
  "language_info": {
   "codemirror_mode": {
    "name": "ipython",
    "version": 3
   },
   "file_extension": ".py",
   "mimetype": "text/x-python",
   "name": "python",
   "nbconvert_exporter": "python",
   "pygments_lexer": "ipython3",
   "version": "3.9.10"
  }
 },
 "nbformat": 4,
 "nbformat_minor": 5
}
