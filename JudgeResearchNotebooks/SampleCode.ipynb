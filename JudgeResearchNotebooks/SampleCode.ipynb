{
 "cells": [
  {
   "cell_type": "markdown",
   "id": "6e7a0143-7cdd-4203-af91-706e715c66b8",
   "metadata": {},
   "source": [
    "# Judge Research Feature Sample\n",
    "## Setup\n",
    "Import modules for fetching and analyzing historical data:"
   ]
  },
  {
   "cell_type": "code",
   "execution_count": 32,
   "id": "98443c8a-890d-4753-82d3-f16e371a0b00",
   "metadata": {},
   "outputs": [],
   "source": [
    "from historical_data import Coinalytix, HDParams, JRParams\n",
    "import json\n",
    "import plotly.graph_objects as go\n",
    "import pandas as pd\n",
    "from datetime import datetime"
   ]
  },
  {
   "cell_type": "markdown",
   "id": "9c76ffea-be74-4c97-a96c-1eed7526ef99",
   "metadata": {},
   "source": [
    "## Authenticate\n",
    "Enter your API keys here:"
   ]
  },
  {
   "cell_type": "code",
   "execution_count": 33,
   "id": "030e8e70-0939-47a5-9822-df7fef1388bc",
   "metadata": {},
   "outputs": [],
   "source": [
    "CA_API_KEY = \"<paste your coinalytix.io key here>\"\n",
    "JR_API_KEY = \"<paste your judge research api key here>\""
   ]
  },
  {
   "cell_type": "markdown",
   "id": "e8ff0165-be9b-4ed8-b23c-72e2d1e13391",
   "metadata": {},
   "source": [
    "## Configure Assets\n",
    "Define the parameters for your historical data:"
   ]
  },
  {
   "cell_type": "code",
   "execution_count": 34,
   "id": "61342caf-5aac-4ff6-8279-ab46562d049a",
   "metadata": {},
   "outputs": [],
   "source": [
    "asset = HDParams()\n",
    "\n",
    "# Set exhange, must be \"BINANCE\" or ...\n",
    "asset.exchange = \"BINANCE\"\n",
    "\n",
    "# Set asset, currently supports \"BTC-USD-SPOT\", \"ETH-USD-SPOT\", ...\n",
    "asset.ticker = \"BTC-USD-SPOT\"\n",
    "\n",
    "# Set start of reporting period in form YYYY-MM-DD HH:MM:SS\n",
    "# Dates after 2019...? supported\n",
    "asset.set_start_date(\"2022-01-01 08:00:00\")\n",
    "                     \n",
    "# Set reporting interval, currently supports \"1d\", \"1m\"...\n",
    "asset.interval = \"1d\"\n",
    "                     \n",
    "# Set number of reporting periods                    \n",
    "asset.num_periods = 365"
   ]
  },
  {
   "cell_type": "markdown",
   "id": "abc73c9b-9826-4c73-8c22-db728743611e",
   "metadata": {},
   "source": [
    "## Collect Data"
   ]
  },
  {
   "cell_type": "code",
   "execution_count": 35,
   "id": "6fca7cbc-08ac-49c2-844a-9869df7b3b24",
   "metadata": {},
   "outputs": [
    {
     "data": {
      "text/html": [
       "<div>\n",
       "<style scoped>\n",
       "    .dataframe tbody tr th:only-of-type {\n",
       "        vertical-align: middle;\n",
       "    }\n",
       "\n",
       "    .dataframe tbody tr th {\n",
       "        vertical-align: top;\n",
       "    }\n",
       "\n",
       "    .dataframe thead th {\n",
       "        text-align: right;\n",
       "    }\n",
       "</style>\n",
       "<table border=\"1\" class=\"dataframe\">\n",
       "  <thead>\n",
       "    <tr style=\"text-align: right;\">\n",
       "      <th></th>\n",
       "      <th>StartDate</th>\n",
       "      <th>Open</th>\n",
       "      <th>High</th>\n",
       "      <th>Low</th>\n",
       "      <th>Close</th>\n",
       "    </tr>\n",
       "  </thead>\n",
       "  <tbody>\n",
       "    <tr>\n",
       "      <th>101</th>\n",
       "      <td>1.649722e+09</td>\n",
       "      <td>39530.4</td>\n",
       "      <td>40699.0</td>\n",
       "      <td>39254.6</td>\n",
       "      <td>40074.9</td>\n",
       "    </tr>\n",
       "    <tr>\n",
       "      <th>102</th>\n",
       "      <td>1.649808e+09</td>\n",
       "      <td>40074.9</td>\n",
       "      <td>41561.3</td>\n",
       "      <td>39588.5</td>\n",
       "      <td>41147.8</td>\n",
       "    </tr>\n",
       "    <tr>\n",
       "      <th>103</th>\n",
       "      <td>1.649894e+09</td>\n",
       "      <td>41147.8</td>\n",
       "      <td>41500.0</td>\n",
       "      <td>39551.9</td>\n",
       "      <td>39942.4</td>\n",
       "    </tr>\n",
       "    <tr>\n",
       "      <th>104</th>\n",
       "      <td>1.649981e+09</td>\n",
       "      <td>39942.4</td>\n",
       "      <td>40870.4</td>\n",
       "      <td>39766.4</td>\n",
       "      <td>40551.9</td>\n",
       "    </tr>\n",
       "    <tr>\n",
       "      <th>105</th>\n",
       "      <td>1.650067e+09</td>\n",
       "      <td>40551.9</td>\n",
       "      <td>40709.4</td>\n",
       "      <td>40054.9</td>\n",
       "      <td>40079.6</td>\n",
       "    </tr>\n",
       "  </tbody>\n",
       "</table>\n",
       "</div>"
      ],
      "text/plain": [
       "        StartDate     Open     High      Low    Close\n",
       "101  1.649722e+09  39530.4  40699.0  39254.6  40074.9\n",
       "102  1.649808e+09  40074.9  41561.3  39588.5  41147.8\n",
       "103  1.649894e+09  41147.8  41500.0  39551.9  39942.4\n",
       "104  1.649981e+09  39942.4  40870.4  39766.4  40551.9\n",
       "105  1.650067e+09  40551.9  40709.4  40054.9  40079.6"
      ]
     },
     "execution_count": 35,
     "metadata": {},
     "output_type": "execute_result"
    }
   ],
   "source": [
    "# Collect to Coinalytix with API key and request asset data\n",
    "HD = Coinalytix()\n",
    "HD.with_api_key(CA_API_KEY)\n",
    "asset_data = HD.fetch_hd(asset)\n",
    "\n",
    "# Create Pandas data frame from result\n",
    "hddf = pd.DataFrame.from_dict(asset_data)\n",
    "\n",
    "# Print 5 sample lines\n",
    "hddf.tail(5)"
   ]
  },
  {
   "cell_type": "markdown",
   "id": "ada756ab-daba-4614-90ed-f4b5a2107d3d",
   "metadata": {},
   "source": [
    "## Create your feature generation function"
   ]
  },
  {
   "cell_type": "code",
   "execution_count": 36,
   "id": "b373ba62-8cb7-438d-8221-2da8819fa287",
   "metadata": {},
   "outputs": [],
   "source": [
    "# Calculate your feature data here\n",
    "# The feature_gen function accepts a dictonary formatted as.... and expects TYPE return value\n",
    "\n",
    "def feature_gen(price):\n",
    "    _calculated_value = \"1\"\n",
    "    return _calculated_value\n",
    "        "
   ]
  },
  {
   "cell_type": "markdown",
   "id": "abf6a798-dbef-4090-b790-1e3a30ed0168",
   "metadata": {},
   "source": [
    "## Research & Test\n",
    "Analyze and chart your dependent and indepenent variables"
   ]
  },
  {
   "cell_type": "code",
   "execution_count": 37,
   "id": "26802cac-cbe5-4a9c-b450-76ef69d44b8c",
   "metadata": {},
   "outputs": [
    {
     "data": {
      "application/vnd.plotly.v1+json": {
       "config": {
        "plotlyServerURL": "https://plot.ly"
       },
       "data": [
        {
         "close": [
          47722.6,
          47286.2,
          46446.1,
          45832,
          43451.1,
          43082.3,
          41566.5,
          41679.7,
          41864.6,
          41822.5,
          42729.3,
          43902.7,
          42560.1,
          43060,
          43084.3,
          43071.7,
          42201.6,
          42352.1,
          41660,
          40680.9,
          36445.3,
          35071.4,
          36244.6,
          36660.4,
          36958.3,
          36809.3,
          37160.1,
          37716.6,
          38166.8,
          37881.8,
          38466.9,
          38694.6,
          36896.4,
          37311.6,
          41574.2,
          41382.6,
          42380.9,
          43840,
          44043,
          44372.7,
          43495.4,
          42373.7,
          42217.9,
          42053.7,
          42535.9,
          44544.9,
          43873.6,
          40515.7,
          39974.4,
          40079.2,
          38386.9,
          37008.2,
          38230.3,
          37250,
          38327.2,
          39219.2,
          39116.7,
          37699.1,
          43160,
          44421.2,
          43893,
          42454,
          39148.7,
          39398,
          38420.8,
          37988,
          38730.6,
          41941.7,
          39422,
          38729.6,
          38807.4,
          37777.3,
          39671.4,
          39280.3,
          41114,
          40917.9,
          41757.5,
          42201.1,
          41262.1,
          41002.2,
          42364.1,
          42882.8,
          43991.5,
          44313.2,
          44511.3,
          46827.8,
          47122.2,
          47434.8,
          47068,
          45510.3,
          46283.5,
          45811,
          46407.4,
          46580.5,
          45497.6,
          43170.5,
          43444.2,
          42252,
          42754,
          42158.9,
          39530.4,
          40074.9,
          41147.8,
          39942.4,
          40551.9,
          40079.6
         ],
         "high": [
          47954.6,
          47990,
          47570,
          47557.5,
          47070,
          43816,
          43145.8,
          42300,
          42786.7,
          42248.5,
          43100,
          44322,
          44500,
          43448.8,
          43800,
          43475,
          43176.2,
          42691,
          42559.1,
          43505,
          41100,
          36835.2,
          36499,
          37550,
          37545.1,
          38920,
          37234.5,
          38000,
          38720.7,
          38359.3,
          38744,
          39265.2,
          38855.9,
          37387,
          41772.3,
          41913.7,
          42656,
          44500.5,
          45492,
          44799,
          45821,
          43920,
          43079.5,
          42760,
          42842.4,
          44751.4,
          44550,
          44164.7,
          40959.9,
          40444.3,
          40125.4,
          39494.4,
          38429,
          39249.9,
          39843,
          39683.5,
          40348.4,
          39855.7,
          44225.8,
          44949,
          45400,
          44101.1,
          42527.3,
          39613.2,
          39693.9,
          39547.6,
          39362.1,
          42594.1,
          42039.6,
          40236.3,
          39486.7,
          39310,
          39947.1,
          39887.6,
          41718,
          41478.8,
          42325,
          42400,
          42296.3,
          41544.2,
          43361,
          43026,
          44220.9,
          45094.1,
          44793,
          46999,
          48189.8,
          48096.5,
          47700.2,
          47600,
          46720.1,
          47213,
          47444.1,
          46890.7,
          47200,
          45507.1,
          43901,
          43970.6,
          42800,
          43410.3,
          42414.7,
          40699,
          41561.3,
          41500,
          40870.4,
          40709.4
         ],
         "low": [
          46715.4,
          46654,
          45696,
          45500,
          42500,
          42430.6,
          40610,
          40501,
          41200,
          39650,
          41268.9,
          42450,
          42311.2,
          41725.9,
          42555,
          42581.8,
          41540.4,
          41250,
          41138.6,
          40553.3,
          35440.4,
          34008,
          34601,
          32917.2,
          35701,
          36234.6,
          35507,
          36155,
          37268.4,
          37351.6,
          36632.6,
          38000,
          36586.9,
          36250,
          37026.7,
          40843,
          41116.6,
          41645.9,
          42666,
          43117.9,
          43174,
          41938.5,
          41688.9,
          41870,
          41550.6,
          42427,
          43307,
          40073.2,
          39450,
          39639,
          38000,
          36800,
          36350,
          37036.8,
          34322.3,
          38014.4,
          38573.2,
          37000,
          37450.2,
          42810,
          43334.1,
          41832.3,
          38550,
          38407.6,
          38088.6,
          37155,
          37867.6,
          38656.4,
          38539.7,
          38223.6,
          38660.5,
          37578.5,
          37555,
          38098.3,
          38828.5,
          40500,
          40135,
          41499.3,
          40911,
          40467.9,
          40875.5,
          41751.5,
          42560.5,
          43579,
          44072,
          44421.5,
          46663.6,
          46950.9,
          46445.4,
          45200,
          44200,
          45620,
          45530.9,
          45118,
          45353.8,
          43121,
          42727.4,
          42107.1,
          42125.5,
          41868,
          39200,
          39254.6,
          39588.5,
          39551.9,
          39766.4,
          40054.9
         ],
         "open": [
          47194.7,
          47722.7,
          47286.2,
          46446.1,
          45832,
          43451.1,
          43082.3,
          41566.5,
          41679.7,
          41864.6,
          41822.5,
          42729.3,
          43902.6,
          42558.4,
          43060,
          43084.3,
          43071.7,
          42201.6,
          42352.1,
          41660,
          40680.9,
          36445.3,
          35071.4,
          36244.6,
          36660.4,
          36958.3,
          36807.2,
          37160.1,
          37716.6,
          38166.8,
          37881.8,
          38466.9,
          38694.6,
          36896.4,
          37312,
          41571.7,
          41382.6,
          42380.9,
          43840,
          44043,
          44372.7,
          43495.4,
          42373.7,
          42217.9,
          42053.6,
          42535.9,
          44544.9,
          43873.6,
          40515.7,
          39974.4,
          40079.2,
          38386.9,
          37008.2,
          38230.3,
          37250,
          38328.7,
          39219.2,
          39116.7,
          37699.1,
          43160,
          44421.2,
          43893,
          42454,
          39148.6,
          39398,
          38420.8,
          37988,
          38730.6,
          41941.7,
          39422,
          38729.6,
          38807.4,
          37777.4,
          39671.4,
          39280.3,
          41114,
          40917.9,
          41757.5,
          42201.1,
          41262.1,
          41002.3,
          42364.1,
          42882.8,
          43991.5,
          44313.2,
          44511.3,
          46827.8,
          47122.2,
          47434.8,
          47068,
          45510.4,
          46283.5,
          45811,
          46407.4,
          46580.5,
          45497.5,
          43170.5,
          43444.2,
          42252,
          42754,
          42158.9,
          39530.4,
          40074.9,
          41147.8,
          39942.4,
          40551.9
         ],
         "type": "candlestick",
         "x": [
          1640995200,
          1641081600,
          1641168000,
          1641254400,
          1641340800,
          1641427200,
          1641513600,
          1641600000,
          1641686400,
          1641772800,
          1641859200,
          1641945600,
          1642032000,
          1642118400,
          1642204800,
          1642291200,
          1642377600,
          1642464000,
          1642550400,
          1642636800,
          1642723200,
          1642809600,
          1642896000,
          1642982400,
          1643068800,
          1643155200,
          1643241600,
          1643328000,
          1643414400,
          1643500800,
          1643587200,
          1643673600,
          1643760000,
          1643846400,
          1643932800,
          1644019200,
          1644105600,
          1644192000,
          1644278400,
          1644364800,
          1644451200,
          1644537600,
          1644624000,
          1644710400,
          1644796800,
          1644883200,
          1644969600,
          1645056000,
          1645142400,
          1645228800,
          1645315200,
          1645401600,
          1645488000,
          1645574400,
          1645660800,
          1645747200,
          1645833600,
          1645920000,
          1646006400,
          1646092800,
          1646179200,
          1646265600,
          1646352000,
          1646438400,
          1646524800,
          1646611200,
          1646697600,
          1646784000,
          1646870400,
          1646956800,
          1647043200,
          1647129600,
          1647216000,
          1647302400,
          1647388800,
          1647475200,
          1647561600,
          1647648000,
          1647734400,
          1647820800,
          1647907200,
          1647993600,
          1648080000,
          1648166400,
          1648252800,
          1648339200,
          1648425600,
          1648512000,
          1648598400,
          1648684800,
          1648771200,
          1648857600,
          1648944000,
          1649030400,
          1649116800,
          1649203200,
          1649289600,
          1649376000,
          1649462400,
          1649548800,
          1649635200,
          1649721600,
          1649808000,
          1649894400,
          1649980800,
          1650067200
         ]
        }
       ],
       "layout": {
        "autosize": true,
        "template": {
         "data": {
          "bar": [
           {
            "error_x": {
             "color": "#2a3f5f"
            },
            "error_y": {
             "color": "#2a3f5f"
            },
            "marker": {
             "line": {
              "color": "#E5ECF6",
              "width": 0.5
             },
             "pattern": {
              "fillmode": "overlay",
              "size": 10,
              "solidity": 0.2
             }
            },
            "type": "bar"
           }
          ],
          "barpolar": [
           {
            "marker": {
             "line": {
              "color": "#E5ECF6",
              "width": 0.5
             },
             "pattern": {
              "fillmode": "overlay",
              "size": 10,
              "solidity": 0.2
             }
            },
            "type": "barpolar"
           }
          ],
          "carpet": [
           {
            "aaxis": {
             "endlinecolor": "#2a3f5f",
             "gridcolor": "white",
             "linecolor": "white",
             "minorgridcolor": "white",
             "startlinecolor": "#2a3f5f"
            },
            "baxis": {
             "endlinecolor": "#2a3f5f",
             "gridcolor": "white",
             "linecolor": "white",
             "minorgridcolor": "white",
             "startlinecolor": "#2a3f5f"
            },
            "type": "carpet"
           }
          ],
          "choropleth": [
           {
            "colorbar": {
             "outlinewidth": 0,
             "ticks": ""
            },
            "type": "choropleth"
           }
          ],
          "contour": [
           {
            "colorbar": {
             "outlinewidth": 0,
             "ticks": ""
            },
            "colorscale": [
             [
              0,
              "#0d0887"
             ],
             [
              0.1111111111111111,
              "#46039f"
             ],
             [
              0.2222222222222222,
              "#7201a8"
             ],
             [
              0.3333333333333333,
              "#9c179e"
             ],
             [
              0.4444444444444444,
              "#bd3786"
             ],
             [
              0.5555555555555556,
              "#d8576b"
             ],
             [
              0.6666666666666666,
              "#ed7953"
             ],
             [
              0.7777777777777778,
              "#fb9f3a"
             ],
             [
              0.8888888888888888,
              "#fdca26"
             ],
             [
              1,
              "#f0f921"
             ]
            ],
            "type": "contour"
           }
          ],
          "contourcarpet": [
           {
            "colorbar": {
             "outlinewidth": 0,
             "ticks": ""
            },
            "type": "contourcarpet"
           }
          ],
          "heatmap": [
           {
            "colorbar": {
             "outlinewidth": 0,
             "ticks": ""
            },
            "colorscale": [
             [
              0,
              "#0d0887"
             ],
             [
              0.1111111111111111,
              "#46039f"
             ],
             [
              0.2222222222222222,
              "#7201a8"
             ],
             [
              0.3333333333333333,
              "#9c179e"
             ],
             [
              0.4444444444444444,
              "#bd3786"
             ],
             [
              0.5555555555555556,
              "#d8576b"
             ],
             [
              0.6666666666666666,
              "#ed7953"
             ],
             [
              0.7777777777777778,
              "#fb9f3a"
             ],
             [
              0.8888888888888888,
              "#fdca26"
             ],
             [
              1,
              "#f0f921"
             ]
            ],
            "type": "heatmap"
           }
          ],
          "heatmapgl": [
           {
            "colorbar": {
             "outlinewidth": 0,
             "ticks": ""
            },
            "colorscale": [
             [
              0,
              "#0d0887"
             ],
             [
              0.1111111111111111,
              "#46039f"
             ],
             [
              0.2222222222222222,
              "#7201a8"
             ],
             [
              0.3333333333333333,
              "#9c179e"
             ],
             [
              0.4444444444444444,
              "#bd3786"
             ],
             [
              0.5555555555555556,
              "#d8576b"
             ],
             [
              0.6666666666666666,
              "#ed7953"
             ],
             [
              0.7777777777777778,
              "#fb9f3a"
             ],
             [
              0.8888888888888888,
              "#fdca26"
             ],
             [
              1,
              "#f0f921"
             ]
            ],
            "type": "heatmapgl"
           }
          ],
          "histogram": [
           {
            "marker": {
             "pattern": {
              "fillmode": "overlay",
              "size": 10,
              "solidity": 0.2
             }
            },
            "type": "histogram"
           }
          ],
          "histogram2d": [
           {
            "colorbar": {
             "outlinewidth": 0,
             "ticks": ""
            },
            "colorscale": [
             [
              0,
              "#0d0887"
             ],
             [
              0.1111111111111111,
              "#46039f"
             ],
             [
              0.2222222222222222,
              "#7201a8"
             ],
             [
              0.3333333333333333,
              "#9c179e"
             ],
             [
              0.4444444444444444,
              "#bd3786"
             ],
             [
              0.5555555555555556,
              "#d8576b"
             ],
             [
              0.6666666666666666,
              "#ed7953"
             ],
             [
              0.7777777777777778,
              "#fb9f3a"
             ],
             [
              0.8888888888888888,
              "#fdca26"
             ],
             [
              1,
              "#f0f921"
             ]
            ],
            "type": "histogram2d"
           }
          ],
          "histogram2dcontour": [
           {
            "colorbar": {
             "outlinewidth": 0,
             "ticks": ""
            },
            "colorscale": [
             [
              0,
              "#0d0887"
             ],
             [
              0.1111111111111111,
              "#46039f"
             ],
             [
              0.2222222222222222,
              "#7201a8"
             ],
             [
              0.3333333333333333,
              "#9c179e"
             ],
             [
              0.4444444444444444,
              "#bd3786"
             ],
             [
              0.5555555555555556,
              "#d8576b"
             ],
             [
              0.6666666666666666,
              "#ed7953"
             ],
             [
              0.7777777777777778,
              "#fb9f3a"
             ],
             [
              0.8888888888888888,
              "#fdca26"
             ],
             [
              1,
              "#f0f921"
             ]
            ],
            "type": "histogram2dcontour"
           }
          ],
          "mesh3d": [
           {
            "colorbar": {
             "outlinewidth": 0,
             "ticks": ""
            },
            "type": "mesh3d"
           }
          ],
          "parcoords": [
           {
            "line": {
             "colorbar": {
              "outlinewidth": 0,
              "ticks": ""
             }
            },
            "type": "parcoords"
           }
          ],
          "pie": [
           {
            "automargin": true,
            "type": "pie"
           }
          ],
          "scatter": [
           {
            "fillpattern": {
             "fillmode": "overlay",
             "size": 10,
             "solidity": 0.2
            },
            "type": "scatter"
           }
          ],
          "scatter3d": [
           {
            "line": {
             "colorbar": {
              "outlinewidth": 0,
              "ticks": ""
             }
            },
            "marker": {
             "colorbar": {
              "outlinewidth": 0,
              "ticks": ""
             }
            },
            "type": "scatter3d"
           }
          ],
          "scattercarpet": [
           {
            "marker": {
             "colorbar": {
              "outlinewidth": 0,
              "ticks": ""
             }
            },
            "type": "scattercarpet"
           }
          ],
          "scattergeo": [
           {
            "marker": {
             "colorbar": {
              "outlinewidth": 0,
              "ticks": ""
             }
            },
            "type": "scattergeo"
           }
          ],
          "scattergl": [
           {
            "marker": {
             "colorbar": {
              "outlinewidth": 0,
              "ticks": ""
             }
            },
            "type": "scattergl"
           }
          ],
          "scattermapbox": [
           {
            "marker": {
             "colorbar": {
              "outlinewidth": 0,
              "ticks": ""
             }
            },
            "type": "scattermapbox"
           }
          ],
          "scatterpolar": [
           {
            "marker": {
             "colorbar": {
              "outlinewidth": 0,
              "ticks": ""
             }
            },
            "type": "scatterpolar"
           }
          ],
          "scatterpolargl": [
           {
            "marker": {
             "colorbar": {
              "outlinewidth": 0,
              "ticks": ""
             }
            },
            "type": "scatterpolargl"
           }
          ],
          "scatterternary": [
           {
            "marker": {
             "colorbar": {
              "outlinewidth": 0,
              "ticks": ""
             }
            },
            "type": "scatterternary"
           }
          ],
          "surface": [
           {
            "colorbar": {
             "outlinewidth": 0,
             "ticks": ""
            },
            "colorscale": [
             [
              0,
              "#0d0887"
             ],
             [
              0.1111111111111111,
              "#46039f"
             ],
             [
              0.2222222222222222,
              "#7201a8"
             ],
             [
              0.3333333333333333,
              "#9c179e"
             ],
             [
              0.4444444444444444,
              "#bd3786"
             ],
             [
              0.5555555555555556,
              "#d8576b"
             ],
             [
              0.6666666666666666,
              "#ed7953"
             ],
             [
              0.7777777777777778,
              "#fb9f3a"
             ],
             [
              0.8888888888888888,
              "#fdca26"
             ],
             [
              1,
              "#f0f921"
             ]
            ],
            "type": "surface"
           }
          ],
          "table": [
           {
            "cells": {
             "fill": {
              "color": "#EBF0F8"
             },
             "line": {
              "color": "white"
             }
            },
            "header": {
             "fill": {
              "color": "#C8D4E3"
             },
             "line": {
              "color": "white"
             }
            },
            "type": "table"
           }
          ]
         },
         "layout": {
          "annotationdefaults": {
           "arrowcolor": "#2a3f5f",
           "arrowhead": 0,
           "arrowwidth": 1
          },
          "autotypenumbers": "strict",
          "coloraxis": {
           "colorbar": {
            "outlinewidth": 0,
            "ticks": ""
           }
          },
          "colorscale": {
           "diverging": [
            [
             0,
             "#8e0152"
            ],
            [
             0.1,
             "#c51b7d"
            ],
            [
             0.2,
             "#de77ae"
            ],
            [
             0.3,
             "#f1b6da"
            ],
            [
             0.4,
             "#fde0ef"
            ],
            [
             0.5,
             "#f7f7f7"
            ],
            [
             0.6,
             "#e6f5d0"
            ],
            [
             0.7,
             "#b8e186"
            ],
            [
             0.8,
             "#7fbc41"
            ],
            [
             0.9,
             "#4d9221"
            ],
            [
             1,
             "#276419"
            ]
           ],
           "sequential": [
            [
             0,
             "#0d0887"
            ],
            [
             0.1111111111111111,
             "#46039f"
            ],
            [
             0.2222222222222222,
             "#7201a8"
            ],
            [
             0.3333333333333333,
             "#9c179e"
            ],
            [
             0.4444444444444444,
             "#bd3786"
            ],
            [
             0.5555555555555556,
             "#d8576b"
            ],
            [
             0.6666666666666666,
             "#ed7953"
            ],
            [
             0.7777777777777778,
             "#fb9f3a"
            ],
            [
             0.8888888888888888,
             "#fdca26"
            ],
            [
             1,
             "#f0f921"
            ]
           ],
           "sequentialminus": [
            [
             0,
             "#0d0887"
            ],
            [
             0.1111111111111111,
             "#46039f"
            ],
            [
             0.2222222222222222,
             "#7201a8"
            ],
            [
             0.3333333333333333,
             "#9c179e"
            ],
            [
             0.4444444444444444,
             "#bd3786"
            ],
            [
             0.5555555555555556,
             "#d8576b"
            ],
            [
             0.6666666666666666,
             "#ed7953"
            ],
            [
             0.7777777777777778,
             "#fb9f3a"
            ],
            [
             0.8888888888888888,
             "#fdca26"
            ],
            [
             1,
             "#f0f921"
            ]
           ]
          },
          "colorway": [
           "#636efa",
           "#EF553B",
           "#00cc96",
           "#ab63fa",
           "#FFA15A",
           "#19d3f3",
           "#FF6692",
           "#B6E880",
           "#FF97FF",
           "#FECB52"
          ],
          "font": {
           "color": "#2a3f5f"
          },
          "geo": {
           "bgcolor": "white",
           "lakecolor": "white",
           "landcolor": "#E5ECF6",
           "showlakes": true,
           "showland": true,
           "subunitcolor": "white"
          },
          "hoverlabel": {
           "align": "left"
          },
          "hovermode": "closest",
          "mapbox": {
           "style": "light"
          },
          "paper_bgcolor": "white",
          "plot_bgcolor": "#E5ECF6",
          "polar": {
           "angularaxis": {
            "gridcolor": "white",
            "linecolor": "white",
            "ticks": ""
           },
           "bgcolor": "#E5ECF6",
           "radialaxis": {
            "gridcolor": "white",
            "linecolor": "white",
            "ticks": ""
           }
          },
          "scene": {
           "xaxis": {
            "backgroundcolor": "#E5ECF6",
            "gridcolor": "white",
            "gridwidth": 2,
            "linecolor": "white",
            "showbackground": true,
            "ticks": "",
            "zerolinecolor": "white"
           },
           "yaxis": {
            "backgroundcolor": "#E5ECF6",
            "gridcolor": "white",
            "gridwidth": 2,
            "linecolor": "white",
            "showbackground": true,
            "ticks": "",
            "zerolinecolor": "white"
           },
           "zaxis": {
            "backgroundcolor": "#E5ECF6",
            "gridcolor": "white",
            "gridwidth": 2,
            "linecolor": "white",
            "showbackground": true,
            "ticks": "",
            "zerolinecolor": "white"
           }
          },
          "shapedefaults": {
           "line": {
            "color": "#2a3f5f"
           }
          },
          "ternary": {
           "aaxis": {
            "gridcolor": "white",
            "linecolor": "white",
            "ticks": ""
           },
           "baxis": {
            "gridcolor": "white",
            "linecolor": "white",
            "ticks": ""
           },
           "bgcolor": "#E5ECF6",
           "caxis": {
            "gridcolor": "white",
            "linecolor": "white",
            "ticks": ""
           }
          },
          "title": {
           "x": 0.05
          },
          "xaxis": {
           "automargin": true,
           "gridcolor": "white",
           "linecolor": "white",
           "ticks": "",
           "title": {
            "standoff": 15
           },
           "zerolinecolor": "white",
           "zerolinewidth": 2
          },
          "yaxis": {
           "automargin": true,
           "gridcolor": "white",
           "linecolor": "white",
           "ticks": "",
           "title": {
            "standoff": 15
           },
           "zerolinecolor": "white",
           "zerolinewidth": 2
          }
         }
        },
        "xaxis": {
         "autorange": true,
         "range": [
          1640952000,
          1650110400
         ],
         "rangeslider": {
          "autorange": true,
          "range": [
           1640952000,
           1650110400
          ],
          "yaxis": {
           "_template": null,
           "rangemode": "match"
          }
         },
         "type": "linear"
        },
        "yaxis": {
         "autorange": true,
         "range": [
          32068.72222222222,
          49038.27777777778
         ]
        }
       }
      },
      "image/png": "[encoded data removed]",
      "text/html": [
       "<div>                            <div id=\"56b4b902-ec15-4d3a-9d3a-7412a118ad54\" class=\"plotly-graph-div\" style=\"height:525px; width:100%;\"></div>            <script type=\"text/javascript\">                require([\"plotly\"], function(Plotly) {                    window.PLOTLYENV=window.PLOTLYENV || {};                                    if (document.getElementById(\"56b4b902-ec15-4d3a-9d3a-7412a118ad54\")) {                    Plotly.newPlot(                        \"56b4b902-ec15-4d3a-9d3a-7412a118ad54\",                        [{\"close\":[47722.6,47286.2,46446.1,45832.0,43451.1,43082.3,41566.5,41679.7,41864.6,41822.5,42729.3,43902.7,42560.1,43060.0,43084.3,43071.7,42201.6,42352.1,41660.0,40680.9,36445.3,35071.4,36244.6,36660.4,36958.3,36809.3,37160.1,37716.6,38166.8,37881.8,38466.9,38694.6,36896.4,37311.6,41574.2,41382.6,42380.9,43840.0,44043.0,44372.7,43495.4,42373.7,42217.9,42053.7,42535.9,44544.9,43873.6,40515.7,39974.4,40079.2,38386.9,37008.2,38230.3,37250.0,38327.2,39219.2,39116.7,37699.1,43160.0,44421.2,43893.0,42454.0,39148.7,39398.0,38420.8,37988.0,38730.6,41941.7,39422.0,38729.6,38807.4,37777.3,39671.4,39280.3,41114.0,40917.9,41757.5,42201.1,41262.1,41002.2,42364.1,42882.8,43991.5,44313.2,44511.3,46827.8,47122.2,47434.8,47068.0,45510.3,46283.5,45811.0,46407.4,46580.5,45497.6,43170.5,43444.2,42252.0,42754.0,42158.9,39530.4,40074.9,41147.8,39942.4,40551.9,40079.6],\"high\":[47954.6,47990.0,47570.0,47557.5,47070.0,43816.0,43145.8,42300.0,42786.7,42248.5,43100.0,44322.0,44500.0,43448.8,43800.0,43475.0,43176.2,42691.0,42559.1,43505.0,41100.0,36835.2,36499.0,37550.0,37545.1,38920.0,37234.5,38000.0,38720.7,38359.3,38744.0,39265.2,38855.9,37387.0,41772.3,41913.7,42656.0,44500.5,45492.0,44799.0,45821.0,43920.0,43079.5,42760.0,42842.4,44751.4,44550.0,44164.7,40959.9,40444.3,40125.4,39494.4,38429.0,39249.9,39843.0,39683.5,40348.4,39855.7,44225.8,44949.0,45400.0,44101.1,42527.3,39613.2,39693.9,39547.6,39362.1,42594.1,42039.6,40236.3,39486.7,39310.0,39947.1,39887.6,41718.0,41478.8,42325.0,42400.0,42296.3,41544.2,43361.0,43026.0,44220.9,45094.1,44793.0,46999.0,48189.8,48096.5,47700.2,47600.0,46720.1,47213.0,47444.1,46890.7,47200.0,45507.1,43901.0,43970.6,42800.0,43410.3,42414.7,40699.0,41561.3,41500.0,40870.4,40709.4],\"low\":[46715.4,46654.0,45696.0,45500.0,42500.0,42430.6,40610.0,40501.0,41200.0,39650.0,41268.9,42450.0,42311.2,41725.9,42555.0,42581.8,41540.4,41250.0,41138.6,40553.3,35440.4,34008.0,34601.0,32917.2,35701.0,36234.6,35507.0,36155.0,37268.4,37351.6,36632.6,38000.0,36586.9,36250.0,37026.7,40843.0,41116.6,41645.9,42666.0,43117.9,43174.0,41938.5,41688.9,41870.0,41550.6,42427.0,43307.0,40073.2,39450.0,39639.0,38000.0,36800.0,36350.0,37036.8,34322.3,38014.4,38573.2,37000.0,37450.2,42810.0,43334.1,41832.3,38550.0,38407.6,38088.6,37155.0,37867.6,38656.4,38539.7,38223.6,38660.5,37578.5,37555.0,38098.3,38828.5,40500.0,40135.0,41499.3,40911.0,40467.9,40875.5,41751.5,42560.5,43579.0,44072.0,44421.5,46663.6,46950.9,46445.4,45200.0,44200.0,45620.0,45530.9,45118.0,45353.8,43121.0,42727.4,42107.1,42125.5,41868.0,39200.0,39254.6,39588.5,39551.9,39766.4,40054.9],\"open\":[47194.7,47722.7,47286.2,46446.1,45832.0,43451.1,43082.3,41566.5,41679.7,41864.6,41822.5,42729.3,43902.6,42558.4,43060.0,43084.3,43071.7,42201.6,42352.1,41660.0,40680.9,36445.3,35071.4,36244.6,36660.4,36958.3,36807.2,37160.1,37716.6,38166.8,37881.8,38466.9,38694.6,36896.4,37312.0,41571.7,41382.6,42380.9,43840.0,44043.0,44372.7,43495.4,42373.7,42217.9,42053.6,42535.9,44544.9,43873.6,40515.7,39974.4,40079.2,38386.9,37008.2,38230.3,37250.0,38328.7,39219.2,39116.7,37699.1,43160.0,44421.2,43893.0,42454.0,39148.6,39398.0,38420.8,37988.0,38730.6,41941.7,39422.0,38729.6,38807.4,37777.4,39671.4,39280.3,41114.0,40917.9,41757.5,42201.1,41262.1,41002.3,42364.1,42882.8,43991.5,44313.2,44511.3,46827.8,47122.2,47434.8,47068.0,45510.4,46283.5,45811.0,46407.4,46580.5,45497.5,43170.5,43444.2,42252.0,42754.0,42158.9,39530.4,40074.9,41147.8,39942.4,40551.9],\"x\":[1640995200.0,1641081600.0,1641168000.0,1641254400.0,1641340800.0,1641427200.0,1641513600.0,1641600000.0,1641686400.0,1641772800.0,1641859200.0,1641945600.0,1642032000.0,1642118400.0,1642204800.0,1642291200.0,1642377600.0,1642464000.0,1642550400.0,1642636800.0,1642723200.0,1642809600.0,1642896000.0,1642982400.0,1643068800.0,1643155200.0,1643241600.0,1643328000.0,1643414400.0,1643500800.0,1643587200.0,1643673600.0,1643760000.0,1643846400.0,1643932800.0,1644019200.0,1644105600.0,1644192000.0,1644278400.0,1644364800.0,1644451200.0,1644537600.0,1644624000.0,1644710400.0,1644796800.0,1644883200.0,1644969600.0,1645056000.0,1645142400.0,1645228800.0,1645315200.0,1645401600.0,1645488000.0,1645574400.0,1645660800.0,1645747200.0,1645833600.0,1645920000.0,1646006400.0,1646092800.0,1646179200.0,1646265600.0,1646352000.0,1646438400.0,1646524800.0,1646611200.0,1646697600.0,1646784000.0,1646870400.0,1646956800.0,1647043200.0,1647129600.0,1647216000.0,1647302400.0,1647388800.0,1647475200.0,1647561600.0,1647648000.0,1647734400.0,1647820800.0,1647907200.0,1647993600.0,1648080000.0,1648166400.0,1648252800.0,1648339200.0,1648425600.0,1648512000.0,1648598400.0,1648684800.0,1648771200.0,1648857600.0,1648944000.0,1649030400.0,1649116800.0,1649203200.0,1649289600.0,1649376000.0,1649462400.0,1649548800.0,1649635200.0,1649721600.0,1649808000.0,1649894400.0,1649980800.0,1650067200.0],\"type\":\"candlestick\"}],                        {\"template\":{\"data\":{\"histogram2dcontour\":[{\"type\":\"histogram2dcontour\",\"colorbar\":{\"outlinewidth\":0,\"ticks\":\"\"},\"colorscale\":[[0.0,\"#0d0887\"],[0.1111111111111111,\"#46039f\"],[0.2222222222222222,\"#7201a8\"],[0.3333333333333333,\"#9c179e\"],[0.4444444444444444,\"#bd3786\"],[0.5555555555555556,\"#d8576b\"],[0.6666666666666666,\"#ed7953\"],[0.7777777777777778,\"#fb9f3a\"],[0.8888888888888888,\"#fdca26\"],[1.0,\"#f0f921\"]]}],\"choropleth\":[{\"type\":\"choropleth\",\"colorbar\":{\"outlinewidth\":0,\"ticks\":\"\"}}],\"histogram2d\":[{\"type\":\"histogram2d\",\"colorbar\":{\"outlinewidth\":0,\"ticks\":\"\"},\"colorscale\":[[0.0,\"#0d0887\"],[0.1111111111111111,\"#46039f\"],[0.2222222222222222,\"#7201a8\"],[0.3333333333333333,\"#9c179e\"],[0.4444444444444444,\"#bd3786\"],[0.5555555555555556,\"#d8576b\"],[0.6666666666666666,\"#ed7953\"],[0.7777777777777778,\"#fb9f3a\"],[0.8888888888888888,\"#fdca26\"],[1.0,\"#f0f921\"]]}],\"heatmap\":[{\"type\":\"heatmap\",\"colorbar\":{\"outlinewidth\":0,\"ticks\":\"\"},\"colorscale\":[[0.0,\"#0d0887\"],[0.1111111111111111,\"#46039f\"],[0.2222222222222222,\"#7201a8\"],[0.3333333333333333,\"#9c179e\"],[0.4444444444444444,\"#bd3786\"],[0.5555555555555556,\"#d8576b\"],[0.6666666666666666,\"#ed7953\"],[0.7777777777777778,\"#fb9f3a\"],[0.8888888888888888,\"#fdca26\"],[1.0,\"#f0f921\"]]}],\"heatmapgl\":[{\"type\":\"heatmapgl\",\"colorbar\":{\"outlinewidth\":0,\"ticks\":\"\"},\"colorscale\":[[0.0,\"#0d0887\"],[0.1111111111111111,\"#46039f\"],[0.2222222222222222,\"#7201a8\"],[0.3333333333333333,\"#9c179e\"],[0.4444444444444444,\"#bd3786\"],[0.5555555555555556,\"#d8576b\"],[0.6666666666666666,\"#ed7953\"],[0.7777777777777778,\"#fb9f3a\"],[0.8888888888888888,\"#fdca26\"],[1.0,\"#f0f921\"]]}],\"contourcarpet\":[{\"type\":\"contourcarpet\",\"colorbar\":{\"outlinewidth\":0,\"ticks\":\"\"}}],\"contour\":[{\"type\":\"contour\",\"colorbar\":{\"outlinewidth\":0,\"ticks\":\"\"},\"colorscale\":[[0.0,\"#0d0887\"],[0.1111111111111111,\"#46039f\"],[0.2222222222222222,\"#7201a8\"],[0.3333333333333333,\"#9c179e\"],[0.4444444444444444,\"#bd3786\"],[0.5555555555555556,\"#d8576b\"],[0.6666666666666666,\"#ed7953\"],[0.7777777777777778,\"#fb9f3a\"],[0.8888888888888888,\"#fdca26\"],[1.0,\"#f0f921\"]]}],\"surface\":[{\"type\":\"surface\",\"colorbar\":{\"outlinewidth\":0,\"ticks\":\"\"},\"colorscale\":[[0.0,\"#0d0887\"],[0.1111111111111111,\"#46039f\"],[0.2222222222222222,\"#7201a8\"],[0.3333333333333333,\"#9c179e\"],[0.4444444444444444,\"#bd3786\"],[0.5555555555555556,\"#d8576b\"],[0.6666666666666666,\"#ed7953\"],[0.7777777777777778,\"#fb9f3a\"],[0.8888888888888888,\"#fdca26\"],[1.0,\"#f0f921\"]]}],\"mesh3d\":[{\"type\":\"mesh3d\",\"colorbar\":{\"outlinewidth\":0,\"ticks\":\"\"}}],\"scatter\":[{\"fillpattern\":{\"fillmode\":\"overlay\",\"size\":10,\"solidity\":0.2},\"type\":\"scatter\"}],\"parcoords\":[{\"type\":\"parcoords\",\"line\":{\"colorbar\":{\"outlinewidth\":0,\"ticks\":\"\"}}}],\"scatterpolargl\":[{\"type\":\"scatterpolargl\",\"marker\":{\"colorbar\":{\"outlinewidth\":0,\"ticks\":\"\"}}}],\"bar\":[{\"error_x\":{\"color\":\"#2a3f5f\"},\"error_y\":{\"color\":\"#2a3f5f\"},\"marker\":{\"line\":{\"color\":\"#E5ECF6\",\"width\":0.5},\"pattern\":{\"fillmode\":\"overlay\",\"size\":10,\"solidity\":0.2}},\"type\":\"bar\"}],\"scattergeo\":[{\"type\":\"scattergeo\",\"marker\":{\"colorbar\":{\"outlinewidth\":0,\"ticks\":\"\"}}}],\"scatterpolar\":[{\"type\":\"scatterpolar\",\"marker\":{\"colorbar\":{\"outlinewidth\":0,\"ticks\":\"\"}}}],\"histogram\":[{\"marker\":{\"pattern\":{\"fillmode\":\"overlay\",\"size\":10,\"solidity\":0.2}},\"type\":\"histogram\"}],\"scattergl\":[{\"type\":\"scattergl\",\"marker\":{\"colorbar\":{\"outlinewidth\":0,\"ticks\":\"\"}}}],\"scatter3d\":[{\"type\":\"scatter3d\",\"line\":{\"colorbar\":{\"outlinewidth\":0,\"ticks\":\"\"}},\"marker\":{\"colorbar\":{\"outlinewidth\":0,\"ticks\":\"\"}}}],\"scattermapbox\":[{\"type\":\"scattermapbox\",\"marker\":{\"colorbar\":{\"outlinewidth\":0,\"ticks\":\"\"}}}],\"scatterternary\":[{\"type\":\"scatterternary\",\"marker\":{\"colorbar\":{\"outlinewidth\":0,\"ticks\":\"\"}}}],\"scattercarpet\":[{\"type\":\"scattercarpet\",\"marker\":{\"colorbar\":{\"outlinewidth\":0,\"ticks\":\"\"}}}],\"carpet\":[{\"aaxis\":{\"endlinecolor\":\"#2a3f5f\",\"gridcolor\":\"white\",\"linecolor\":\"white\",\"minorgridcolor\":\"white\",\"startlinecolor\":\"#2a3f5f\"},\"baxis\":{\"endlinecolor\":\"#2a3f5f\",\"gridcolor\":\"white\",\"linecolor\":\"white\",\"minorgridcolor\":\"white\",\"startlinecolor\":\"#2a3f5f\"},\"type\":\"carpet\"}],\"table\":[{\"cells\":{\"fill\":{\"color\":\"#EBF0F8\"},\"line\":{\"color\":\"white\"}},\"header\":{\"fill\":{\"color\":\"#C8D4E3\"},\"line\":{\"color\":\"white\"}},\"type\":\"table\"}],\"barpolar\":[{\"marker\":{\"line\":{\"color\":\"#E5ECF6\",\"width\":0.5},\"pattern\":{\"fillmode\":\"overlay\",\"size\":10,\"solidity\":0.2}},\"type\":\"barpolar\"}],\"pie\":[{\"automargin\":true,\"type\":\"pie\"}]},\"layout\":{\"autotypenumbers\":\"strict\",\"colorway\":[\"#636efa\",\"#EF553B\",\"#00cc96\",\"#ab63fa\",\"#FFA15A\",\"#19d3f3\",\"#FF6692\",\"#B6E880\",\"#FF97FF\",\"#FECB52\"],\"font\":{\"color\":\"#2a3f5f\"},\"hovermode\":\"closest\",\"hoverlabel\":{\"align\":\"left\"},\"paper_bgcolor\":\"white\",\"plot_bgcolor\":\"#E5ECF6\",\"polar\":{\"bgcolor\":\"#E5ECF6\",\"angularaxis\":{\"gridcolor\":\"white\",\"linecolor\":\"white\",\"ticks\":\"\"},\"radialaxis\":{\"gridcolor\":\"white\",\"linecolor\":\"white\",\"ticks\":\"\"}},\"ternary\":{\"bgcolor\":\"#E5ECF6\",\"aaxis\":{\"gridcolor\":\"white\",\"linecolor\":\"white\",\"ticks\":\"\"},\"baxis\":{\"gridcolor\":\"white\",\"linecolor\":\"white\",\"ticks\":\"\"},\"caxis\":{\"gridcolor\":\"white\",\"linecolor\":\"white\",\"ticks\":\"\"}},\"coloraxis\":{\"colorbar\":{\"outlinewidth\":0,\"ticks\":\"\"}},\"colorscale\":{\"sequential\":[[0.0,\"#0d0887\"],[0.1111111111111111,\"#46039f\"],[0.2222222222222222,\"#7201a8\"],[0.3333333333333333,\"#9c179e\"],[0.4444444444444444,\"#bd3786\"],[0.5555555555555556,\"#d8576b\"],[0.6666666666666666,\"#ed7953\"],[0.7777777777777778,\"#fb9f3a\"],[0.8888888888888888,\"#fdca26\"],[1.0,\"#f0f921\"]],\"sequentialminus\":[[0.0,\"#0d0887\"],[0.1111111111111111,\"#46039f\"],[0.2222222222222222,\"#7201a8\"],[0.3333333333333333,\"#9c179e\"],[0.4444444444444444,\"#bd3786\"],[0.5555555555555556,\"#d8576b\"],[0.6666666666666666,\"#ed7953\"],[0.7777777777777778,\"#fb9f3a\"],[0.8888888888888888,\"#fdca26\"],[1.0,\"#f0f921\"]],\"diverging\":[[0,\"#8e0152\"],[0.1,\"#c51b7d\"],[0.2,\"#de77ae\"],[0.3,\"#f1b6da\"],[0.4,\"#fde0ef\"],[0.5,\"#f7f7f7\"],[0.6,\"#e6f5d0\"],[0.7,\"#b8e186\"],[0.8,\"#7fbc41\"],[0.9,\"#4d9221\"],[1,\"#276419\"]]},\"xaxis\":{\"gridcolor\":\"white\",\"linecolor\":\"white\",\"ticks\":\"\",\"title\":{\"standoff\":15},\"zerolinecolor\":\"white\",\"automargin\":true,\"zerolinewidth\":2},\"yaxis\":{\"gridcolor\":\"white\",\"linecolor\":\"white\",\"ticks\":\"\",\"title\":{\"standoff\":15},\"zerolinecolor\":\"white\",\"automargin\":true,\"zerolinewidth\":2},\"scene\":{\"xaxis\":{\"backgroundcolor\":\"#E5ECF6\",\"gridcolor\":\"white\",\"linecolor\":\"white\",\"showbackground\":true,\"ticks\":\"\",\"zerolinecolor\":\"white\",\"gridwidth\":2},\"yaxis\":{\"backgroundcolor\":\"#E5ECF6\",\"gridcolor\":\"white\",\"linecolor\":\"white\",\"showbackground\":true,\"ticks\":\"\",\"zerolinecolor\":\"white\",\"gridwidth\":2},\"zaxis\":{\"backgroundcolor\":\"#E5ECF6\",\"gridcolor\":\"white\",\"linecolor\":\"white\",\"showbackground\":true,\"ticks\":\"\",\"zerolinecolor\":\"white\",\"gridwidth\":2}},\"shapedefaults\":{\"line\":{\"color\":\"#2a3f5f\"}},\"annotationdefaults\":{\"arrowcolor\":\"#2a3f5f\",\"arrowhead\":0,\"arrowwidth\":1},\"geo\":{\"bgcolor\":\"white\",\"landcolor\":\"#E5ECF6\",\"subunitcolor\":\"white\",\"showland\":true,\"showlakes\":true,\"lakecolor\":\"white\"},\"title\":{\"x\":0.05},\"mapbox\":{\"style\":\"light\"}}}},                        {\"responsive\": true}                    ).then(function(){\n",
       "                            \n",
       "var gd = document.getElementById('56b4b902-ec15-4d3a-9d3a-7412a118ad54');\n",
       "var x = new MutationObserver(function (mutations, observer) {{\n",
       "        var display = window.getComputedStyle(gd).display;\n",
       "        if (!display || display === 'none') {{\n",
       "            console.log([gd, 'removed!']);\n",
       "            Plotly.purge(gd);\n",
       "            observer.disconnect();\n",
       "        }}\n",
       "}});\n",
       "\n",
       "// Listen for the removal of the full notebook cells\n",
       "var notebookContainer = gd.closest('#notebook-container');\n",
       "if (notebookContainer) {{\n",
       "    x.observe(notebookContainer, {childList: true});\n",
       "}}\n",
       "\n",
       "// Listen for the clearing of the current output cell\n",
       "var outputEl = gd.closest('.output');\n",
       "if (outputEl) {{\n",
       "    x.observe(outputEl, {childList: true});\n",
       "}}\n",
       "\n",
       "                        })                };                });            </script>        </div>"
      ]
     },
     "metadata": {},
     "output_type": "display_data"
    }
   ],
   "source": [
    "fig = go.Figure(data=[go.Candlestick(x=hddf['StartDate'],\n",
    "                open=hddf['Open'],\n",
    "                high=hddf['High'],\n",
    "                low=hddf['Low'],\n",
    "                close=hddf['Close'])])\n",
    "\n",
    "fig.show()"
   ]
  },
  {
   "cell_type": "markdown",
   "id": "60e6c7bb-4906-4545-8f83-ee6f67ad8e88",
   "metadata": {},
   "source": [
    "## Configure Judge Research Feature Parameters\n",
    "Set the constants & default values below as appropriate."
   ]
  },
  {
   "cell_type": "code",
   "execution_count": 38,
   "id": "f975ee4d-4259-47d8-8b2a-6f6b146662aa",
   "metadata": {},
   "outputs": [],
   "source": [
    "jrparams = JRParams()\n",
    "\n",
    "# DV - a string specifying the dependent variable. Choices during the alpha test are \"ETH-USD\", \n",
    "# \"BTC-USD\", and \"V-BTC-USD\", which denotes the volatility of BTC-USD.\n",
    "jrparams.dv = \"ETH-USD\"\n",
    "\n",
    "# MBS - a string specifying the block size of the observation, in minutes. \n",
    "# This can be any positive number. For the alpha test, we are currently set to test four hour series,\n",
    "# so 240 should be the value you set. We will likely include another time frame for the alpha test, \n",
    "# and will update this document when we do.\n",
    "jrparams.mbs = \"240\"\n",
    "\n",
    "# FEATURE_NAME - an alphanumeric string for the name of the feature, of length no more than 50 characters. \n",
    "# You can name the feature whatever you want.\n",
    "jrparams.feature_name = \"testfeature001\"\n",
    "\n",
    "# VALUE - the most important part! A string with the value of the feature, also of length no more than 50 characters.\n",
    "# The default value is set here, the feature_gen function will set this variable when generating new feature data.\n",
    "jrparams.value = \"0\"    # default value\n",
    "\n",
    "# IPP - optional, defaults to \"last\" - what type of interpolation procedure is appropriate for your feature. \n",
    "# Values can be either \"last\" - fill in the missing value with the last observed value - and \"zero\" - fill in \n",
    "# the last value with a 0.\n",
    "jrparams.ipp = \"last\"    # default value"
   ]
  },
  {
   "cell_type": "markdown",
   "id": "af91123e-0350-4950-9fa7-a31b08bc5be8",
   "metadata": {},
   "source": [
    "## Scheduling and Headless Execution\n",
    "The feature_gen function can be run periodically from this notebook or exported for use in a self-contained docker runtime environment.  Running the feature generation locally, in this notebook, is appropriate for reasearch and testing; however, the notebook UI adds a layer of complexity which may be undesirable in production."
   ]
  },
  {
   "cell_type": "code",
   "execution_count": null,
   "id": "36ba84af-b092-4e44-b51c-3ee6e5730948",
   "metadata": {},
   "outputs": [],
   "source": []
  },
  {
   "cell_type": "markdown",
   "id": "5d6d35ba-4849-4d98-99de-64a1643a2a98",
   "metadata": {},
   "source": [
    "### Scheduling inside this notebook\n",
    "instuctions here for python cron stuff..."
   ]
  },
  {
   "cell_type": "markdown",
   "id": "507f36bb-c367-48d1-96e3-f2f3d9d6d0df",
   "metadata": {},
   "source": [
    "### Scheduling a headless docker runtime \n",
    "instuctions for running the feature_gen code in a self-sufficient docker container.."
   ]
  }
 ],
 "metadata": {
  "kernelspec": {
   "display_name": "Python 3 (ipykernel)",
   "language": "python",
   "name": "python3"
  },
  "language_info": {
   "codemirror_mode": {
    "name": "ipython",
    "version": 3
   },
   "file_extension": ".py",
   "mimetype": "text/x-python",
   "name": "python",
   "nbconvert_exporter": "python",
   "pygments_lexer": "ipython3",
   "version": "3.9.10"
  }
 },
 "nbformat": 4,
 "nbformat_minor": 5
}
