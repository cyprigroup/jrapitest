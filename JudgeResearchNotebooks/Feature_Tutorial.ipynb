{
 "cells": [
  {
   "cell_type": "markdown",
   "id": "5451ecea-9ad7-4faf-9642-f8447f5e70cf",
   "metadata": {
    "slideshow": {
     "slide_type": "slide"
    },
    "tags": []
   },
   "source": [
    "![Judge Research](images/judgeresearch.png)\n",
    "# Feature Data Tutorial"
   ]
  },
  {
   "cell_type": "markdown",
   "id": "d48b0c0e-f88d-48a9-be6c-87774f704392",
   "metadata": {
    "slideshow": {
     "slide_type": "slide"
    }
   },
   "source": [
    "# Usage\n",
    "\n",
    "This Judge Research interface can be run locally, on your own laptop, desktop, or server; additionally, it can be run in the cloud using a binderhub service like mybinder or in the Google Cloud.\n",
    "\n",
    "Hit or click the DOWN ARROW to see the detail of both methods below."
   ]
  },
  {
   "cell_type": "markdown",
   "id": "03480d12-4fc9-4046-b09b-c6e753e1cc62",
   "metadata": {
    "slideshow": {
     "slide_type": "subslide"
    }
   },
   "source": [
    "### Build & Launch Your Own\n",
    "\n",
    "- Install [docker-compose](https://docs.docker.com/compose/install/)\n",
    "- Launch the container:\n",
    "```\n",
    "git clone https://github.com/cyprigroup/jrapitest.git\n",
    "cd jrapitest\n",
    "docker-compose up\n",
    "```\n",
    "- Open a browser to: [http://127.0.0.1:8888/lab?token=JR](http://127.0.0.1:8888/lab?token=JR)"
   ]
  },
  {
   "cell_type": "markdown",
   "id": "aea99b79-d5ea-4b1e-9647-ca68a10d4173",
   "metadata": {
    "slideshow": {
     "slide_type": "subslide"
    }
   },
   "source": [
    "### Launch in the Cloud\n",
    "\n",
    "#### MyBinder\n",
    "\n",
    "- [![Binder](https://mybinder.org/badge_logo.svg)](https://mybinder.org/v2/gh/cyprigroup/jrapitest/main?labpath=JudgeResearchNotebooks%2FFeature_Tutorial.ipynb)"
   ]
  },
  {
   "cell_type": "markdown",
   "id": "6e7a0143-7cdd-4203-af91-706e715c66b8",
   "metadata": {
    "slideshow": {
     "slide_type": "slide"
    },
    "tags": []
   },
   "source": [
    "## Setup\n",
    "Import modules for Judge Research, Coinalytix, technical analysis, and plotting tools."
   ]
  },
  {
   "cell_type": "code",
   "execution_count": 1,
   "id": "98443c8a-890d-4753-82d3-f16e371a0b00",
   "metadata": {
    "slideshow": {
     "slide_type": "-"
    },
    "tags": []
   },
   "outputs": [],
   "source": [
    "# import classes that handle API connections and parameters\n",
    "from historical_data import Coinalytix, HDParams\n",
    "from judgeresearch import JudgeResearch, JRParams\n",
    "\n",
    "# import classes for data handling & visualization\n",
    "import json\n",
    "import plotly.graph_objects as go\n",
    "import pandas as pd\n",
    "from datetime import date, datetime, timedelta\n",
    "import pandas_ta as ta\n",
    "import time\n",
    "from watchlist import colors"
   ]
  },
  {
   "cell_type": "markdown",
   "id": "9c76ffea-be74-4c97-a96c-1eed7526ef99",
   "metadata": {
    "slideshow": {
     "slide_type": "slide"
    },
    "tags": []
   },
   "source": [
    "## Authenticate\n",
    "Enter your API keys here:"
   ]
  },
  {
   "cell_type": "code",
   "execution_count": 2,
   "id": "030e8e70-0939-47a5-9822-df7fef1388bc",
   "metadata": {
    "slideshow": {
     "slide_type": "-"
    },
    "tags": []
   },
   "outputs": [],
   "source": [
    "CA_API_KEY = \"hHV1QUTclB653YLvFJBJh5Pz0BayF251at64c9x9\"\n",
    "JR_API_KEY = \"hHV1QUTclB653YLvFJBJh5Pz0BayF251at64c9x9\""
   ]
  },
  {
   "cell_type": "markdown",
   "id": "e8ff0165-be9b-4ed8-b23c-72e2d1e13391",
   "metadata": {
    "slideshow": {
     "slide_type": "slide"
    },
    "tags": []
   },
   "source": [
    "## Configure Assets\n",
    "Define the parameters for your historical data:"
   ]
  },
  {
   "cell_type": "code",
   "execution_count": 3,
   "id": "61342caf-5aac-4ff6-8279-ab46562d049a",
   "metadata": {
    "slideshow": {
     "slide_type": "-"
    },
    "tags": []
   },
   "outputs": [],
   "source": [
    "asset = HDParams()\n",
    "# Set exchange, must be \"BINANCE\" or ...\n",
    "asset.exchange = \"BINANCE\"\n",
    "# Set asset, currently supports \"BTC-USD-SPOT\", \"ETH-USD-SPOT\", ...\n",
    "asset.ticker = \"BTC-USD-SPOT\"\n",
    "# Set start of reporting period in form YYYY-MM-DD HH:MM:SS\n",
    "# Dates after 2019...? supported\n",
    "asset.set_start_date(\"2022-01-01 08:00:00\")\n",
    "# Set reporting interval, currently supports \"1d\", \"1m\"...\n",
    "asset.interval = \"1d\"\n",
    "# Set number of reporting periods                    \n",
    "asset.num_periods = 365"
   ]
  },
  {
   "cell_type": "markdown",
   "id": "abc73c9b-9826-4c73-8c22-db728743611e",
   "metadata": {
    "slideshow": {
     "slide_type": "slide"
    },
    "tags": []
   },
   "source": [
    "## Collect Data\n",
    "Setup authentication and fetch historical data from Coinalytix"
   ]
  },
  {
   "cell_type": "code",
   "execution_count": 4,
   "id": "6fca7cbc-08ac-49c2-844a-9869df7b3b24",
   "metadata": {
    "slideshow": {
     "slide_type": "-"
    },
    "tags": []
   },
   "outputs": [
    {
     "data": {
      "text/html": [
       "<div>\n",
       "<style scoped>\n",
       "    .dataframe tbody tr th:only-of-type {\n",
       "        vertical-align: middle;\n",
       "    }\n",
       "\n",
       "    .dataframe tbody tr th {\n",
       "        vertical-align: top;\n",
       "    }\n",
       "\n",
       "    .dataframe thead th {\n",
       "        text-align: right;\n",
       "    }\n",
       "</style>\n",
       "<table border=\"1\" class=\"dataframe\">\n",
       "  <thead>\n",
       "    <tr style=\"text-align: right;\">\n",
       "      <th></th>\n",
       "      <th>StartDate</th>\n",
       "      <th>Open</th>\n",
       "      <th>High</th>\n",
       "      <th>Low</th>\n",
       "      <th>Close</th>\n",
       "      <th>Volume</th>\n",
       "    </tr>\n",
       "    <tr>\n",
       "      <th>StartDate</th>\n",
       "      <th></th>\n",
       "      <th></th>\n",
       "      <th></th>\n",
       "      <th></th>\n",
       "      <th></th>\n",
       "      <th></th>\n",
       "    </tr>\n",
       "  </thead>\n",
       "  <tbody>\n",
       "    <tr>\n",
       "      <th>2022-05-20</th>\n",
       "      <td>1.653005e+09</td>\n",
       "      <td>30319.2</td>\n",
       "      <td>30742.0</td>\n",
       "      <td>28730.0</td>\n",
       "      <td>29209.9</td>\n",
       "      <td>11547.49087</td>\n",
       "    </tr>\n",
       "    <tr>\n",
       "      <th>2022-05-21</th>\n",
       "      <td>1.653091e+09</td>\n",
       "      <td>29201.0</td>\n",
       "      <td>29645.7</td>\n",
       "      <td>28969.2</td>\n",
       "      <td>29457.7</td>\n",
       "      <td>4175.66491</td>\n",
       "    </tr>\n",
       "    <tr>\n",
       "      <th>2022-05-22</th>\n",
       "      <td>1.653178e+09</td>\n",
       "      <td>29445.1</td>\n",
       "      <td>30479.0</td>\n",
       "      <td>29272.7</td>\n",
       "      <td>30295.9</td>\n",
       "      <td>6298.23815</td>\n",
       "    </tr>\n",
       "    <tr>\n",
       "      <th>2022-05-23</th>\n",
       "      <td>1.653264e+09</td>\n",
       "      <td>30293.9</td>\n",
       "      <td>30666.0</td>\n",
       "      <td>28938.0</td>\n",
       "      <td>29094.6</td>\n",
       "      <td>13347.91180</td>\n",
       "    </tr>\n",
       "    <tr>\n",
       "      <th>2022-05-24</th>\n",
       "      <td>1.653350e+09</td>\n",
       "      <td>29109.1</td>\n",
       "      <td>29313.8</td>\n",
       "      <td>29090.0</td>\n",
       "      <td>29250.0</td>\n",
       "      <td>1278.33160</td>\n",
       "    </tr>\n",
       "  </tbody>\n",
       "</table>\n",
       "</div>"
      ],
      "text/plain": [
       "               StartDate     Open     High      Low    Close       Volume\n",
       "StartDate                                                                \n",
       "2022-05-20  1.653005e+09  30319.2  30742.0  28730.0  29209.9  11547.49087\n",
       "2022-05-21  1.653091e+09  29201.0  29645.7  28969.2  29457.7   4175.66491\n",
       "2022-05-22  1.653178e+09  29445.1  30479.0  29272.7  30295.9   6298.23815\n",
       "2022-05-23  1.653264e+09  30293.9  30666.0  28938.0  29094.6  13347.91180\n",
       "2022-05-24  1.653350e+09  29109.1  29313.8  29090.0  29250.0   1278.33160"
      ]
     },
     "execution_count": 4,
     "metadata": {},
     "output_type": "execute_result"
    }
   ],
   "source": [
    "HD = Coinalytix()\n",
    "# Set api key\n",
    "HD.with_api_key(CA_API_KEY)\n",
    "# Fetch historical data\n",
    "hddf = HD.fetch_hd(asset)\n",
    "# Print 5 lines to test\n",
    "hddf.tail(5)"
   ]
  },
  {
   "cell_type": "markdown",
   "id": "ada756ab-daba-4614-90ed-f4b5a2107d3d",
   "metadata": {
    "slideshow": {
     "slide_type": "slide"
    },
    "tags": []
   },
   "source": [
    "## Create a Feature Generation Function"
   ]
  },
  {
   "cell_type": "code",
   "execution_count": 5,
   "id": "b373ba62-8cb7-438d-8221-2da8819fa287",
   "metadata": {
    "slideshow": {
     "slide_type": "-"
    },
    "tags": []
   },
   "outputs": [],
   "source": [
    "# The feature_gen function accepts a pandas dataframe, datetime indexed and should\n",
    "# return a pandas dataframe, similarly datetime indexed and including a column\n",
    "# named \"feature\"\n",
    "\n",
    "def feature_gen(df):\n",
    "    ''' Set feature column to 1 or 0 as MACD crosses MACDs '''\n",
    "    macddf = df.ta.macd(fast=8, slow=21, signal=9, min_periods=None, append=True)\n",
    "    macddf[\"macdiff\"] = macddf[\"MACD_8_21_9\"] - macddf[\"MACDs_8_21_9\"]\n",
    "    macddf[\"feature\"] = ['0' if x > 0 else '1' for x in macddf['macdiff']]\n",
    "    return macddf\n",
    "\n",
    "# Generate feature dataframe\n",
    "fdf = feature_gen(hddf)"
   ]
  },
  {
   "cell_type": "markdown",
   "id": "abf6a798-dbef-4090-b790-1e3a30ed0168",
   "metadata": {
    "slideshow": {
     "slide_type": "slide"
    }
   },
   "source": [
    "## Research & Chart\n",
    "Analyze and chart your dependent and indepenent variables"
   ]
  },
  {
   "cell_type": "code",
   "execution_count": 6,
   "id": "cc4142f0-2bed-4aba-986c-b9a22356c7f3",
   "metadata": {
    "slideshow": {
     "slide_type": "skip"
    }
   },
   "outputs": [],
   "source": [
    "def ctitle(indicator_name, ticker=\"BTC-USD\", length=100):\n",
    "    return f\"{ticker}: {indicator_name} from {recent_startdate} to {recent_enddate} ({length})\"\n",
    "\n",
    "def recent_bars(df, tf: str = \"1y\"):\n",
    "    # All Data: 0, Last Four Years: 0.25, Last Two Years: 0.5, This Year: 1, Last Half Year: 2, Last Quarter: 4\n",
    "    yearly_divisor = {\"all\": 0, \"10y\": 0.1, \"5y\": 0.2, \"4y\": 0.25, \"3y\": 1./3, \"2y\": 0.5, \"1y\": 1, \"6mo\": 2, \"3mo\": 4}\n",
    "    yd = yearly_divisor[tf] if tf in yearly_divisor.keys() else 0\n",
    "    return int(ta.RATE[\"TRADING_DAYS_PER_YEAR\"] / yd) if yd > 0 else df.shape[0]\n",
    "\n",
    "recent_startdate = hddf.tail(recent_bars(hddf)).index[0]\n",
    "recent_enddate = hddf.tail(recent_bars(hddf)).index[-1]"
   ]
  },
  {
   "cell_type": "code",
   "execution_count": 7,
   "id": "26802cac-cbe5-4a9c-b450-76ef69d44b8c",
   "metadata": {
    "slideshow": {
     "slide_type": "-"
    }
   },
   "outputs": [
    {
     "data": {
      "text/plain": [
       "<matplotlib.lines.Line2D at 0x409879afa0>"
      ]
     },
     "execution_count": 7,
     "metadata": {},
     "output_type": "execute_result"
    },
    {
     "data": {
      "image/png": "[encoded data removed]",
      "text/plain": [
       "<Figure size 1152x234 with 1 Axes>"
      ]
     },
     "metadata": {
      "needs_background": "light"
     },
     "output_type": "display_data"
    }
   ],
   "source": [
    "ind_size = (16, 3.25)\n",
    "fdf[[fdf.columns[0], fdf.columns[2]]].tail(recent_bars(fdf)).plot(figsize=(16, 2), color=colors(\"BkBl\"), linewidth=1.3)\n",
    "fdf[fdf.columns[1]].tail(recent_bars(fdf)).plot.area(figsize=ind_size, stacked=False, color=[\"silver\"], linewidth=1, title=ctitle(fdf.name, ticker=asset.ticker, length=recent_bars(fdf)), grid=True).axhline(y=0, color=\"black\", lw=1.1)"
   ]
  },
  {
   "cell_type": "markdown",
   "id": "60e6c7bb-4906-4545-8f83-ee6f67ad8e88",
   "metadata": {
    "jp-MarkdownHeadingCollapsed": true,
    "slideshow": {
     "slide_type": "slide"
    },
    "tags": []
   },
   "source": [
    "### Set the constants & default values below as appropriate."
   ]
  },
  {
   "cell_type": "code",
   "execution_count": 8,
   "id": "f975ee4d-4259-47d8-8b2a-6f6b146662aa",
   "metadata": {
    "slideshow": {
     "slide_type": "-"
    }
   },
   "outputs": [],
   "source": [
    "ft_params = JRParams()\n",
    "\n",
    "# ATTRIBUTE - a string representing the time block of the observation,\n",
    "# in coordinated universal time following the ISO 8601 standard, in UTC.\n",
    "# The attribute should be structured as \"YYYY-MM-DDTHH:MM:SSZ\". For\n",
    "# the alpha test, if you mistakenly send in objects with a date prior to\n",
    "# \"2019-01-01T00:00:00Z\", you won’t receive an error message but earlier observations will be discarded.\n",
    "ft_params.attribute = \"2022-01-01T00:00:00Z\" # default value\n",
    "\n",
    "# DV - a string specifying the dependent variable. Choices during the alpha test are \"ETH-USD\", \n",
    "# \"BTC-USD\", and \"V-BTC-USD\", which denotes the volatility of BTC-USD.\n",
    "ft_params.dv = \"BTC-USD\"\n",
    "\n",
    "# MBS - a string specifying the block size of the observation, in minutes. \n",
    "# This can be any positive number. For the alpha test, we are currently set to test four hour series,\n",
    "# so 240 should be the value you set. We will likely include another time frame for the alpha test, \n",
    "# and will update this document when we do.\n",
    "ft_params.mbs= \"240\"\n",
    "\n",
    "# FEATURE_NAME - an alphanumeric string for the name of the feature, of length no more than 50 characters. \n",
    "# You can name the feature whatever you want.\n",
    "ft_params.feature_name = \"testfeature001\"\n",
    "\n",
    "# VALUE - the most important part! A string with the value of the feature, also of length no more than 50 characters.\n",
    "# The default value is set here, the feature_gen function will set this variable when generating new feature data.\n",
    "ft_params.value = \"0\"    # default value\n",
    "\n",
    "# IPP - optional, defaults to \"last\" - what type of interpolation procedure is appropriate for your feature. \n",
    "# Values can be either \"last\" - fill in the missing value with the last observed value - and \"zero\" - fill in \n",
    "# the last value with a 0.\n",
    "ft_params.ipp = \"last\"    # default value"
   ]
  },
  {
   "cell_type": "markdown",
   "id": "ff5f6371-1311-463a-a469-3c6b665674e9",
   "metadata": {
    "slideshow": {
     "slide_type": "slide"
    }
   },
   "source": [
    "## Connect to Judge Research "
   ]
  },
  {
   "cell_type": "code",
   "execution_count": null,
   "id": "e10588eb-a470-4763-a187-e850010b00f1",
   "metadata": {
    "slideshow": {
     "slide_type": "-"
    }
   },
   "outputs": [],
   "source": []
  },
  {
   "cell_type": "markdown",
   "id": "75c3647d-07db-4375-a28c-d644a889b236",
   "metadata": {
    "slideshow": {
     "slide_type": "slide"
    }
   },
   "source": [
    "## Format and Submit Historical Features"
   ]
  },
  {
   "cell_type": "code",
   "execution_count": 9,
   "id": "6cfcd33e-666d-4b99-87f1-6e98aa3dfc5a",
   "metadata": {
    "slideshow": {
     "slide_type": "-"
    }
   },
   "outputs": [
    {
     "name": "stdout",
     "output_type": "stream",
     "text": [
      "<Response [200]>\n"
     ]
    }
   ],
   "source": [
    "JR = JudgeResearch()\n",
    "JR.with_api_key(JR_API_KEY)\n",
    "features = JR.craft_features(ft_params, fdf)\n",
    "payload = JR.format_payload(features)\n",
    "submit = JR.submit_feature(payload)\n",
    "\n",
    "# Print result\n",
    "print(submit)"
   ]
  },
  {
   "cell_type": "code",
   "execution_count": null,
   "id": "c61dcce1-9472-46dd-ae2c-d90f3d1d2fdd",
   "metadata": {
    "slideshow": {
     "slide_type": "-"
    }
   },
   "outputs": [],
   "source": []
  },
  {
   "cell_type": "markdown",
   "id": "cf9ac043-3682-4c68-882e-5b25eb03bee3",
   "metadata": {
    "slideshow": {
     "slide_type": "skip"
    }
   },
   "source": [
    "## Live Feature Calculation and Submission"
   ]
  },
  {
   "cell_type": "markdown",
   "id": "a780d9e8-b224-432b-897e-93f5f0a3ebc9",
   "metadata": {},
   "source": [
    "The code below calculates in intented for the live submission of feature data.  Each data point is submitted three times.\n",
    "\n",
    "When invoked, a first \"safety\" guess is calculated and submitted to ensure it is recorded well before the feature submission deadline.\n",
    "\n",
    "The second and third submissions are send on user-configurable intervals calculated by percentage of time remaining before the close of the window.  For example, if the script is run 10 minutes before the close of a window with \"firstdelay\" set to 0.50 and the seconddelay set to \"0.90\" the execution would happen as follows:\n",
    "\n",
    "T-00:10 Initial Submission\n",
    "T-00:05 Second Submission\n",
    "T-00:09 Last Submission\n",
    "T-00:00 Feature Submission Deadline"
   ]
  },
  {
   "cell_type": "markdown",
   "id": "dcddabf9-32a1-4dab-91a0-ac7db6d04639",
   "metadata": {},
   "source": [
    "### Convenience Functions"
   ]
  },
  {
   "cell_type": "code",
   "execution_count": 15,
   "id": "c8b1149d-3387-4920-8383-9cfdf9615ffe",
   "metadata": {},
   "outputs": [],
   "source": [
    "def calc_and_submit(hddf):\n",
    "        fdf = feature_gen(hddf)\n",
    "        features = JR.craft_features(ft_params, fdf)\n",
    "        payload = JR.format_payload(features)\n",
    "        submit = JR.submit_feature(payload)\n",
    "        return submit\n",
    "    \n",
    "def live_calc_and_submit(params, hddf, firstdelay, seconddelay):\n",
    "        \"\"\"\n",
    "        calculate and submit feature data 3 times\n",
    "        first submission = immediate\n",
    "        second submission = % of remaining time in window ex. .30 = 3 minutes of 10 remaining\n",
    "        last submission = % of remaining time in window ex, .90 = 9 of 10 remaining\n",
    "        \"\"\"\n",
    "        \n",
    "        # determine current time\n",
    "        now = datetime.now()\n",
    "        print(\"Current time: \" + now.strftime(\"%Y-%m-%dT%H:%M:%SZ\"))\n",
    "        \n",
    "        # determine the upcoming deadline (end of window)\n",
    "        # FIXME: don't assume windows are anchored to 00:00\n",
    "        genesis_time = datetime.utcnow().today().replace(microsecond=0, second=0, minute=0, hour=0)\n",
    "        \n",
    "        # set deadline anchor time\n",
    "        deadline = genesis_time\n",
    "        print(\"Genesis: \" + genesis_time.strftime(\"%Y-%m-%dT%H:%M:%SZ\"))\n",
    "        \n",
    "        # create timedelta object based on MBS parameter\n",
    "        window = timedelta(minutes=int(params.mbs))\n",
    "        \n",
    "        # iterate through block times until current time is passed, set deadline\n",
    "        while now > deadline:\n",
    "            deadline = deadline + window\n",
    "            \n",
    "        print(\"Next Block End: \" + deadline.strftime(\"%Y-%m-%dT%H:%M:%SZ\"))\n",
    "        \n",
    "        # calculate time remaining until window close\n",
    "        remaining = deadline - now\n",
    "        \n",
    "        # caculate delays (seconds)\n",
    "        delay1 = int(remaining.total_seconds() * firstdelay)\n",
    "        delay2 = int(remaining.total_seconds() * seconddelay) - delay1\n",
    "        \n",
    "        # submit immediately\n",
    "        s1 = calc_and_submit(hddf)\n",
    "        print(\"First submission at \" + datetime.now().strftime(\"%Y-%m-%dT%H:%M:%SZ\"))\n",
    "        \n",
    "        # sleep, recalculate, and send agin\n",
    "        time.sleep(delay1)\n",
    "        s2 = calc_and_submit(hddf)\n",
    "        print(\"Second submission at \" + datetime.now().strftime(\"%Y-%m-%dT%H:%M:%SZ\"))\n",
    "        \n",
    "        # sleep, recalculate, and send final\n",
    "        time.sleep(delay2)\n",
    "        s3 = calc_and_submit(hddf)\n",
    "        print(\"Final submission at \" + datetime.now().strftime(\"%Y-%m-%dT%H:%M:%SZ\"))        "
   ]
  },
  {
   "cell_type": "code",
   "execution_count": null,
   "id": "230d854c-ba28-49bb-bb31-f5f954181998",
   "metadata": {},
   "outputs": [
    {
     "name": "stdout",
     "output_type": "stream",
     "text": [
      "Current time: 2022-05-24T03:29:00Z\n",
      "Deadline: 2022-05-24T04:00:00Z\n",
      "First Block Start: 2022-05-24T00:00:00Z\n",
      "Next Block End: 2022-05-24T04:00:00Z\n",
      "First submission at 2022-05-24T03:29:00Z\n"
     ]
    }
   ],
   "source": [
    "live_calc_and_submit(ft_params, hddf, .50, .90)"
   ]
  },
  {
   "cell_type": "code",
   "execution_count": null,
   "id": "32ca4ed8-b062-4851-92cf-39ea1a2b37bb",
   "metadata": {},
   "outputs": [],
   "source": []
  }
 ],
 "metadata": {
  "celltoolbar": "Slideshow",
  "kernelspec": {
   "display_name": "Python 3 (ipykernel)",
   "language": "python",
   "name": "python3"
  },
  "language_info": {
   "codemirror_mode": {
    "name": "ipython",
    "version": 3
   },
   "file_extension": ".py",
   "mimetype": "text/x-python",
   "name": "python",
   "nbconvert_exporter": "python",
   "pygments_lexer": "ipython3",
   "version": "3.9.10"
  }
 },
 "nbformat": 4,
 "nbformat_minor": 5
}
