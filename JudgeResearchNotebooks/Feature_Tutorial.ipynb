{
 "cells": [
  {
   "cell_type": "markdown",
   "id": "5451ecea-9ad7-4faf-9642-f8447f5e70cf",
   "metadata": {},
   "source": [
    "![Judge Research](images/judgeresearch.png)"
   ]
  },
  {
   "cell_type": "markdown",
   "id": "6e7a0143-7cdd-4203-af91-706e715c66b8",
   "metadata": {},
   "source": [
    "# Judge Research Feature Data Tutorial\n",
    "## Setup\n",
    "Import modules for fetching and analyzing historical data:"
   ]
  },
  {
   "cell_type": "code",
   "execution_count": null,
   "id": "98443c8a-890d-4753-82d3-f16e371a0b00",
   "metadata": {},
   "outputs": [],
   "source": [
    "from historical_data import Coinalytix, HDParams\n",
    "from judgeresearch import JudgeResearch, JRParams\n",
    "import json\n",
    "import plotly.graph_objects as go\n",
    "import pandas as pd\n",
    "from datetime import datetime\n",
    "\n",
    "asset = HDParams()\n",
    "jrparams = JRParams()\n",
    "HD = Coinalytix()\n",
    "JR = JudgeResearch()"
   ]
  },
  {
   "cell_type": "markdown",
   "id": "9c76ffea-be74-4c97-a96c-1eed7526ef99",
   "metadata": {},
   "source": [
    "## Authenticate\n",
    "Enter your API keys here:"
   ]
  },
  {
   "cell_type": "code",
   "execution_count": null,
   "id": "030e8e70-0939-47a5-9822-df7fef1388bc",
   "metadata": {},
   "outputs": [],
   "source": [
    "CA_API_KEY = \"<paste your coinalytix.io key here>\"\n",
    "JR_API_KEY = \"hHV1QUTclB653YLvFJBJh5Pz0BayF251at64c9x9\""
   ]
  },
  {
   "cell_type": "markdown",
   "id": "e8ff0165-be9b-4ed8-b23c-72e2d1e13391",
   "metadata": {},
   "source": [
    "## Configure Assets\n",
    "Define the parameters for your historical data:"
   ]
  },
  {
   "cell_type": "code",
   "execution_count": null,
   "id": "61342caf-5aac-4ff6-8279-ab46562d049a",
   "metadata": {},
   "outputs": [],
   "source": [
    "# Set exchange, must be \"BINANCE\" or ...\n",
    "asset.exchange = \"BINANCE\"\n",
    "\n",
    "# Set asset, currently supports \"BTC-USD-SPOT\", \"ETH-USD-SPOT\", ...\n",
    "asset.ticker = \"BTC-USD-SPOT\"\n",
    "\n",
    "# Set start of reporting period in form YYYY-MM-DD HH:MM:SS\n",
    "# Dates after 2019...? supported\n",
    "asset.set_start_date(\"2022-01-01 08:00:00\")\n",
    "                     \n",
    "# Set reporting interval, currently supports \"1d\", \"1m\"...\n",
    "asset.interval = \"1d\"\n",
    "                     \n",
    "# Set number of reporting periods                    \n",
    "asset.num_periods = 365"
   ]
  },
  {
   "cell_type": "markdown",
   "id": "abc73c9b-9826-4c73-8c22-db728743611e",
   "metadata": {},
   "source": [
    "## Collect Data\n",
    "Setup authentication and fetch historical data from Coinalytix"
   ]
  },
  {
   "cell_type": "code",
   "execution_count": null,
   "id": "6fca7cbc-08ac-49c2-844a-9869df7b3b24",
   "metadata": {},
   "outputs": [],
   "source": [
    "# Set api key\n",
    "HD.with_api_key(CA_API_KEY)\n",
    "\n",
    "# Fetch historical data\n",
    "asset_data = HD.fetch_hd(asset)\n",
    "\n",
    "# Create Pandas data frame from result\n",
    "hddf = pd.DataFrame.from_dict(asset_data)\n",
    "\n",
    "# Print 5 sample lines\n",
    "hddf.tail(5)"
   ]
  },
  {
   "cell_type": "markdown",
   "id": "ada756ab-daba-4614-90ed-f4b5a2107d3d",
   "metadata": {},
   "source": [
    "## Create your feature generation function"
   ]
  },
  {
   "cell_type": "code",
   "execution_count": null,
   "id": "b373ba62-8cb7-438d-8221-2da8819fa287",
   "metadata": {},
   "outputs": [],
   "source": [
    "# Calculate your feature data here\n",
    "# The feature_gen function accepts a dictonary formatted as.... and expects TYPE return value\n",
    "\n",
    "def feature_gen(hddf):\n",
    "    _calculated_value = \"1\"\n",
    "    return _calculated_value\n",
    "        "
   ]
  },
  {
   "cell_type": "markdown",
   "id": "abf6a798-dbef-4090-b790-1e3a30ed0168",
   "metadata": {},
   "source": [
    "## Research & Test\n",
    "Analyze and chart your dependent and indepenent variables"
   ]
  },
  {
   "cell_type": "code",
   "execution_count": null,
   "id": "26802cac-cbe5-4a9c-b450-76ef69d44b8c",
   "metadata": {},
   "outputs": [],
   "source": [
    "fig = go.Figure(data=[go.Candlestick(x=hddf['StartDate'],\n",
    "                open=hddf['Open'],\n",
    "                high=hddf['High'],\n",
    "                low=hddf['Low'],\n",
    "                close=hddf['Close'])])\n",
    "\n",
    "fig.show()"
   ]
  },
  {
   "cell_type": "markdown",
   "id": "60e6c7bb-4906-4545-8f83-ee6f67ad8e88",
   "metadata": {},
   "source": [
    "## Configure Judge Research Feature Parameters\n",
    "Set the constants & default values below as appropriate."
   ]
  },
  {
   "cell_type": "code",
   "execution_count": null,
   "id": "f975ee4d-4259-47d8-8b2a-6f6b146662aa",
   "metadata": {},
   "outputs": [],
   "source": [
    "# ATTRIBUTE - a string representing the time block of the observation,\n",
    "# in coordinated universal time following the ISO 8601 standard, in UTC.\n",
    "# The attribute should be structured as \"YYYY-MM-DDTHH:MM:SSZ\". For\n",
    "# the alpha test, if you mistakenly send in objects with a date prior to\n",
    "# \"2019-01-01T00:00:00Z\", you won’t receive an error message but earlier observations will be discarded.\n",
    "jrparams.attribute = \"2022-01-01T00:00:00Z\"\n",
    "\n",
    "# DV - a string specifying the dependent variable. Choices during the alpha test are \"ETH-USD\", \n",
    "# \"BTC-USD\", and \"V-BTC-USD\", which denotes the volatility of BTC-USD.\n",
    "jrparams.dv = \"ETH-USD\"\n",
    "\n",
    "# MBS - a string specifying the block size of the observation, in minutes. \n",
    "# This can be any positive number. For the alpha test, we are currently set to test four hour series,\n",
    "# so 240 should be the value you set. We will likely include another time frame for the alpha test, \n",
    "# and will update this document when we do.\n",
    "jrparams.mbs = \"240\"\n",
    "\n",
    "# FEATURE_NAME - an alphanumeric string for the name of the feature, of length no more than 50 characters. \n",
    "# You can name the feature whatever you want.\n",
    "jrparams.feature_name = \"testfeature001\"\n",
    "\n",
    "# VALUE - the most important part! A string with the value of the feature, also of length no more than 50 characters.\n",
    "# The default value is set here, the feature_gen function will set this variable when generating new feature data.\n",
    "jrparams.value = \"0\"    # default value\n",
    "\n",
    "# IPP - optional, defaults to \"last\" - what type of interpolation procedure is appropriate for your feature. \n",
    "# Values can be either \"last\" - fill in the missing value with the last observed value - and \"zero\" - fill in \n",
    "# the last value with a 0.\n",
    "jrparams.ipp = \"last\"    # default value"
   ]
  },
  {
   "cell_type": "markdown",
   "id": "ff5f6371-1311-463a-a469-3c6b665674e9",
   "metadata": {},
   "source": [
    "## Submit Historical Feature Data"
   ]
  },
  {
   "cell_type": "code",
   "execution_count": null,
   "id": "e10588eb-a470-4763-a187-e850010b00f1",
   "metadata": {},
   "outputs": [],
   "source": [
    "# Connect to Judge Research with API key, craft payload, and submit feature data\n",
    "\n",
    "features = []\n",
    "features.append(jrparams)\n",
    "\n",
    "# Configure API key\n",
    "JR.with_api_key(JR_API_KEY)\n",
    "\n",
    "# Craft payload\n",
    "payload = JR.format_payload(features)\n",
    "\n",
    "# Submit feature data\n",
    "s = JR.submit_feature(payload)\n",
    "\n",
    "print(s.text)"
   ]
  },
  {
   "cell_type": "markdown",
   "id": "af91123e-0350-4950-9fa7-a31b08bc5be8",
   "metadata": {},
   "source": [
    "## Scheduling and Headless Execution\n",
    "The feature_gen function can be run periodically from this notebook or exported for use in a self-contained docker runtime environment.  Running the feature generation locally, in this notebook, is appropriate for reasearch and testing; however, the notebook UI adds a layer of complexity which may be undesirable in production."
   ]
  },
  {
   "cell_type": "code",
   "execution_count": null,
   "id": "36ba84af-b092-4e44-b51c-3ee6e5730948",
   "metadata": {},
   "outputs": [],
   "source": []
  },
  {
   "cell_type": "markdown",
   "id": "5d6d35ba-4849-4d98-99de-64a1643a2a98",
   "metadata": {},
   "source": [
    "### Scheduling inside this notebook\n",
    "instuctions here for python cron stuff..."
   ]
  },
  {
   "cell_type": "markdown",
   "id": "507f36bb-c367-48d1-96e3-f2f3d9d6d0df",
   "metadata": {},
   "source": [
    "### Scheduling a headless docker runtime \n",
    "instuctions for running the feature_gen code in a self-sufficient docker container.."
   ]
  },
  {
   "cell_type": "code",
   "execution_count": null,
   "id": "e11e944a-2580-4016-99b5-20c7a1d346ca",
   "metadata": {},
   "outputs": [],
   "source": []
  },
  {
   "cell_type": "code",
   "execution_count": null,
   "id": "6ed4dd34-903f-41ef-a07f-49fe5b5c44c3",
   "metadata": {},
   "outputs": [],
   "source": []
  }
 ],
 "metadata": {
  "kernelspec": {
   "display_name": "Python 3 (ipykernel)",
   "language": "python",
   "name": "python3"
  },
  "language_info": {
   "codemirror_mode": {
    "name": "ipython",
    "version": 3
   },
   "file_extension": ".py",
   "mimetype": "text/x-python",
   "name": "python",
   "nbconvert_exporter": "python",
   "pygments_lexer": "ipython3",
   "version": "3.9.10"
  }
 },
 "nbformat": 4,
 "nbformat_minor": 5
}
